{
 "cells": [
  {
   "cell_type": "markdown",
   "metadata": {},
   "source": [
    "# Assignment"
   ]
  },
  {
   "cell_type": "code",
   "execution_count": 1,
   "metadata": {},
   "outputs": [],
   "source": [
    "pythonlist = ['Ama', 54, 'Kojo', 45.5, 'Yhup', 52, 'Kwame', 96, 'Kwesi', 87, 'Roland', True, 'Nti',\n",
    "             45, 78.5, 'William', 68, 45.3, 78, 'Patty', False, 98, True, 'Adwoa',21, 65, 'Pappy',\n",
    "             14, 'Folly', False, 52, 'Pency']"
   ]
  },
  {
   "cell_type": "markdown",
   "metadata": {},
   "source": [
    "1. create four empty lists:\n",
    "a. Floats\n",
    "b. Ints\n",
    "c. Strings\n",
    "d. Booleans\n"
   ]
  },
  {
   "cell_type": "markdown",
   "metadata": {},
   "source": [
    "\n",
    "2. For each item in the \"pythonlist\", place it in the right set created above.\n",
    "\n",
    "3. For the strings and booleans sets, sort the items\n",
    "\n",
    "4. For the int set, print out the 3rd and 5th highest number\n",
    "\n",
    "5. For the float set, print out the 2nd largest number"
   ]
  },
  {
   "cell_type": "markdown",
   "metadata": {},
   "source": [
    "## Question 1"
   ]
  },
  {
   "cell_type": "code",
   "execution_count": 7,
   "metadata": {},
   "outputs": [],
   "source": [
    "pythonlist = ['Ama', 54, 'Kojo', 45.5, 'Yhup', 52, 'Kwame', 96, 'Kwesi', 87, 'Roland', True, 'Nti',\n",
    "             45, 78.5, 'William', 68, 45.3, 78, 'Patty', False, 98, True, 'Adwoa',21, 65, 'Pappy',\n",
    "             14, 'Folly', False, 52, 'Pency']"
   ]
  },
  {
   "cell_type": "code",
   "execution_count": 9,
   "metadata": {},
   "outputs": [],
   "source": [
    "Floatlist = ()\n",
    "Intslist = ()\n",
    "Stringlist = ' '\n",
    "Booleanlist = ()"
   ]
  },
  {
   "cell_type": "markdown",
   "metadata": {},
   "source": [
    "## Question 2"
   ]
  },
  {
   "cell_type": "code",
   "execution_count": 17,
   "metadata": {},
   "outputs": [],
   "source": [
    "floatlist = [48.5, 78.5, 45.3]"
   ]
  },
  {
   "cell_type": "code",
   "execution_count": 26,
   "metadata": {},
   "outputs": [],
   "source": [
    "intlist = [54, 52, 96, 87, 45, 68, 78, 98, 21, 65, 14, 52]"
   ]
  },
  {
   "cell_type": "code",
   "execution_count": 22,
   "metadata": {},
   "outputs": [],
   "source": [
    "stringlist = ['Ama', 'Kojo', 'Yhup', 'Kwame', 'Kwesi', 'Roland', 'Nti', 'William', 'Patty', 'Adwoa', 'Pappy', 'Folly', 'Pency']"
   ]
  },
  {
   "cell_type": "code",
   "execution_count": 21,
   "metadata": {},
   "outputs": [],
   "source": [
    "booleanlist = [True, False, True, False]"
   ]
  },
  {
   "cell_type": "markdown",
   "metadata": {},
   "source": [
    "## Question 3"
   ]
  },
  {
   "cell_type": "code",
   "execution_count": 16,
   "metadata": {},
   "outputs": [
    {
     "name": "stdout",
     "output_type": "stream",
     "text": [
      "['Adwoa', 'Ama', 'Folly', 'Kojo', 'Kwame', 'Kwesi', 'Nti', 'Pappy', 'Patty', 'Pency', 'Roland', 'William', 'Yhup']\n"
     ]
    }
   ],
   "source": [
    "stringlist = ['Ama', 'Kojo', 'Yhup', 'Kwame', 'Kwesi', 'Roland', 'Nti', 'William', 'Patty', 'Adwoa', 'Pappy', 'Folly', 'Pency']\n",
    "stringlist.sort()\n",
    "print(stringlist)"
   ]
  },
  {
   "cell_type": "markdown",
   "metadata": {},
   "source": [
    "## Question 4"
   ]
  },
  {
   "cell_type": "code",
   "execution_count": 28,
   "metadata": {},
   "outputs": [
    {
     "name": "stdout",
     "output_type": "stream",
     "text": [
      "87\n"
     ]
    }
   ],
   "source": [
    "intlist = [54, 52, 96, 87, 45, 68, 78, 98, 21, 65, 14, 52]\n",
    "intlist.sort(reverse=True)\n",
    "print(intlist[2])"
   ]
  },
  {
   "cell_type": "code",
   "execution_count": 29,
   "metadata": {},
   "outputs": [
    {
     "name": "stdout",
     "output_type": "stream",
     "text": [
      "68\n"
     ]
    }
   ],
   "source": [
    "print(intlist[4])"
   ]
  },
  {
   "cell_type": "markdown",
   "metadata": {},
   "source": [
    "## Question 5"
   ]
  },
  {
   "cell_type": "code",
   "execution_count": 32,
   "metadata": {},
   "outputs": [
    {
     "name": "stdout",
     "output_type": "stream",
     "text": [
      "48.5\n"
     ]
    }
   ],
   "source": [
    "floatlist = [48.5, 78.5, 45.3]\n",
    "floatlist.sort(reverse=True)\n",
    "print(floatlist[1])"
   ]
  },
  {
   "cell_type": "code",
   "execution_count": null,
   "metadata": {},
   "outputs": [],
   "source": []
  }
 ],
 "metadata": {
  "kernelspec": {
   "display_name": "Python 3",
   "language": "python",
   "name": "python3"
  },
  "language_info": {
   "codemirror_mode": {
    "name": "ipython",
    "version": 3
   },
   "file_extension": ".py",
   "mimetype": "text/x-python",
   "name": "python",
   "nbconvert_exporter": "python",
   "pygments_lexer": "ipython3",
   "version": "3.7.6"
  }
 },
 "nbformat": 4,
 "nbformat_minor": 2
}
